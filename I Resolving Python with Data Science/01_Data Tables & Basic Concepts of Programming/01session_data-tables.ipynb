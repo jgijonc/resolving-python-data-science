{
 "cells": [
  {
   "cell_type": "markdown",
   "id": "65a62216",
   "metadata": {},
   "source": [
    "<font size=\"+5\">#01 | Data Tables & Basic Concepts of Programming</font>"
   ]
  },
  {
   "cell_type": "markdown",
   "id": "3e9a2e55-8a36-4c00-b184-4286bfc8ce90",
   "metadata": {},
   "source": [
    "- Subscribe to my [Blog ↗](https://blog.pythonassembly.com/)\n",
    "- Let's keep in touch on [LinkedIn ↗](www.linkedin.com/in/jsulopz) 😄"
   ]
  },
  {
   "cell_type": "markdown",
   "id": "54ece1c9",
   "metadata": {},
   "source": [
    "# Define a Variable"
   ]
  },
  {
   "cell_type": "markdown",
   "id": "cb0780b8",
   "metadata": {},
   "source": [
    "> Asign an `object` (numbers, text) to a `variable`."
   ]
  },
  {
   "cell_type": "code",
   "execution_count": 2,
   "id": "21a3d036-0978-4c58-921e-6ad0d692df95",
   "metadata": {},
   "outputs": [],
   "source": [
    "a=1"
   ]
  },
  {
   "cell_type": "code",
   "execution_count": 4,
   "id": "561c5cc1-e77a-46d8-bb75-0ab5c6aaac65",
   "metadata": {},
   "outputs": [
    {
     "ename": "NameError",
     "evalue": "name 'frase' is not defined",
     "output_type": "error",
     "traceback": [
      "\u001b[0;31m---------------------------------------------------------------------------\u001b[0m",
      "\u001b[0;31mNameError\u001b[0m                                 Traceback (most recent call last)",
      "\u001b[0;32m/var/folders/24/tg28vxls25l9mjvqrnh0plc80000gn/T/ipykernel_94682/1371814865.py\u001b[0m in \u001b[0;36m<module>\u001b[0;34m\u001b[0m\n\u001b[0;32m----> 1\u001b[0;31m \u001b[0mtexto\u001b[0m \u001b[0;34m=\u001b[0m \u001b[0mfrase\u001b[0m\u001b[0;34m\u001b[0m\u001b[0;34m\u001b[0m\u001b[0m\n\u001b[0m",
      "\u001b[0;31mNameError\u001b[0m: name 'frase' is not defined"
     ]
    }
   ],
   "source": [
    "texto = frase"
   ]
  },
  {
   "cell_type": "code",
   "execution_count": 5,
   "id": "a7dd0121-0136-4f88-95c5-68242f991172",
   "metadata": {},
   "outputs": [],
   "source": [
    "frase = 89"
   ]
  },
  {
   "cell_type": "code",
   "execution_count": 6,
   "id": "7b9983fa-761f-457d-af56-333b4f1499c3",
   "metadata": {},
   "outputs": [],
   "source": [
    "texto = frase"
   ]
  },
  {
   "cell_type": "markdown",
   "id": "fd89405e",
   "metadata": {},
   "source": [
    "# The Registry (_aka The Environment_)"
   ]
  },
  {
   "cell_type": "markdown",
   "id": "b9e3b076",
   "metadata": {},
   "source": [
    "> Place where Python goes to **recognise what we type**."
   ]
  },
  {
   "cell_type": "code",
   "execution_count": 12,
   "id": "ec8192bb-7939-4dd3-8732-08d2d3092c91",
   "metadata": {},
   "outputs": [
    {
     "data": {
      "text/plain": [
       "int"
      ]
     },
     "execution_count": 12,
     "metadata": {},
     "output_type": "execute_result"
    }
   ],
   "source": [
    "type(78)"
   ]
  },
  {
   "cell_type": "code",
   "execution_count": 13,
   "id": "e379795f-eb46-44dc-ab17-859708dcacf7",
   "metadata": {},
   "outputs": [
    {
     "data": {
      "text/plain": [
       "float"
      ]
     },
     "execution_count": 13,
     "metadata": {},
     "output_type": "execute_result"
    }
   ],
   "source": [
    "type(34.43)"
   ]
  },
  {
   "cell_type": "code",
   "execution_count": 14,
   "id": "a81e9b9b-4804-4c58-8d8c-cda60b8ed708",
   "metadata": {},
   "outputs": [
    {
     "data": {
      "text/plain": [
       "str"
      ]
     },
     "execution_count": 14,
     "metadata": {},
     "output_type": "execute_result"
    }
   ],
   "source": [
    "type('joaidfs')"
   ]
  },
  {
   "cell_type": "code",
   "execution_count": 15,
   "id": "adf956ac-c0b1-4e66-8169-ea0af43179e2",
   "metadata": {},
   "outputs": [
    {
     "data": {
      "text/plain": [
       "<function len(obj, /)>"
      ]
     },
     "execution_count": 15,
     "metadata": {},
     "output_type": "execute_result"
    }
   ],
   "source": [
    "len"
   ]
  },
  {
   "cell_type": "code",
   "execution_count": 16,
   "id": "c8226abe-3be9-47f3-87a3-cea2e9bcb669",
   "metadata": {},
   "outputs": [
    {
     "data": {
      "text/plain": [
       "<function sum(iterable, /, start=0)>"
      ]
     },
     "execution_count": 16,
     "metadata": {},
     "output_type": "execute_result"
    }
   ],
   "source": [
    "sum"
   ]
  },
  {
   "cell_type": "code",
   "execution_count": 17,
   "id": "f83cdcdd-2096-4ed3-bf7f-32ffac12f7fc",
   "metadata": {},
   "outputs": [],
   "source": [
    "a = [34,3,5365]"
   ]
  },
  {
   "cell_type": "code",
   "execution_count": 19,
   "id": "e1f1c8ab-1afc-4d73-8fee-791b4fbf755a",
   "metadata": {},
   "outputs": [],
   "source": [
    "import pandas as pepa"
   ]
  },
  {
   "cell_type": "code",
   "execution_count": 21,
   "id": "a59a6a5c-3982-4788-9118-675bd408607c",
   "metadata": {},
   "outputs": [],
   "source": [
    "s = pepa.Series(a)"
   ]
  },
  {
   "cell_type": "code",
   "execution_count": 24,
   "id": "63c3532e-5560-4bfe-9488-85a83324d817",
   "metadata": {},
   "outputs": [
    {
     "data": {
      "text/plain": [
       "1800.6666666666667"
      ]
     },
     "execution_count": 24,
     "metadata": {},
     "output_type": "execute_result"
    }
   ],
   "source": [
    "s.mean()"
   ]
  },
  {
   "cell_type": "code",
   "execution_count": 25,
   "id": "1ebc1afa-7571-4dbd-a2f5-ecb0892d6b39",
   "metadata": {},
   "outputs": [
    {
     "data": {
      "text/plain": [
       "pandas.core.series.Series"
      ]
     },
     "execution_count": 25,
     "metadata": {},
     "output_type": "execute_result"
    }
   ],
   "source": [
    "type(s)"
   ]
  },
  {
   "cell_type": "code",
   "execution_count": 26,
   "id": "31df8eb8-af7c-43e6-8132-894d9f6f9225",
   "metadata": {},
   "outputs": [
    {
     "data": {
      "text/plain": [
       "list"
      ]
     },
     "execution_count": 26,
     "metadata": {},
     "output_type": "execute_result"
    }
   ],
   "source": [
    "type(a)"
   ]
  },
  {
   "cell_type": "code",
   "execution_count": 23,
   "id": "fca365c0-5752-4280-9e9c-8d31d1535b4c",
   "metadata": {},
   "outputs": [
    {
     "data": {
      "text/plain": [
       "[34, 3, 5365]"
      ]
     },
     "execution_count": 23,
     "metadata": {},
     "output_type": "execute_result"
    }
   ],
   "source": [
    "a.m"
   ]
  },
  {
   "cell_type": "markdown",
   "id": "c111ffa7",
   "metadata": {},
   "source": [
    "# Use of Functions"
   ]
  },
  {
   "cell_type": "markdown",
   "id": "8e2b45cf",
   "metadata": {},
   "source": [
    "## Predefined Functions in Python (_Built-in_ Functions)"
   ]
  },
  {
   "cell_type": "markdown",
   "id": "400be570",
   "metadata": {},
   "source": [
    "> https://docs.python.org/3/library/functions.html"
   ]
  },
  {
   "cell_type": "code",
   "execution_count": 18,
   "id": "fa5e0175-38bc-438a-b188-57472b08d989",
   "metadata": {},
   "outputs": [
    {
     "ename": "AttributeError",
     "evalue": "'list' object has no attribute 'mean'",
     "output_type": "error",
     "traceback": [
      "\u001b[0;31m---------------------------------------------------------------------------\u001b[0m",
      "\u001b[0;31mAttributeError\u001b[0m                            Traceback (most recent call last)",
      "\u001b[0;32m/var/folders/24/tg28vxls25l9mjvqrnh0plc80000gn/T/ipykernel_94682/1798845826.py\u001b[0m in \u001b[0;36m<module>\u001b[0;34m\u001b[0m\n\u001b[0;32m----> 1\u001b[0;31m \u001b[0ma\u001b[0m\u001b[0;34m.\u001b[0m\u001b[0mmean\u001b[0m\u001b[0;34m(\u001b[0m\u001b[0;34m)\u001b[0m\u001b[0;34m\u001b[0m\u001b[0;34m\u001b[0m\u001b[0m\n\u001b[0m",
      "\u001b[0;31mAttributeError\u001b[0m: 'list' object has no attribute 'mean'"
     ]
    }
   ],
   "source": [
    "a.mean()"
   ]
  },
  {
   "cell_type": "code",
   "execution_count": 27,
   "id": "dd9e1d0a-6f7b-4171-90ec-00c296a2fcc4",
   "metadata": {},
   "outputs": [
    {
     "ename": "NameError",
     "evalue": "name 'mean' is not defined",
     "output_type": "error",
     "traceback": [
      "\u001b[0;31m---------------------------------------------------------------------------\u001b[0m",
      "\u001b[0;31mNameError\u001b[0m                                 Traceback (most recent call last)",
      "\u001b[0;32m/var/folders/24/tg28vxls25l9mjvqrnh0plc80000gn/T/ipykernel_94682/3531512137.py\u001b[0m in \u001b[0;36m<module>\u001b[0;34m\u001b[0m\n\u001b[0;32m----> 1\u001b[0;31m \u001b[0mmean\u001b[0m\u001b[0;34m(\u001b[0m\u001b[0ma\u001b[0m\u001b[0;34m)\u001b[0m\u001b[0;34m\u001b[0m\u001b[0;34m\u001b[0m\u001b[0m\n\u001b[0m",
      "\u001b[0;31mNameError\u001b[0m: name 'mean' is not defined"
     ]
    }
   ],
   "source": [
    "mean(a)"
   ]
  },
  {
   "cell_type": "code",
   "execution_count": 28,
   "id": "bd56f422-4fba-49d3-bdbc-f4316d44bb08",
   "metadata": {},
   "outputs": [
    {
     "data": {
      "text/plain": [
       "5402"
      ]
     },
     "execution_count": 28,
     "metadata": {},
     "output_type": "execute_result"
    }
   ],
   "source": [
    "sum(a)"
   ]
  },
  {
   "cell_type": "markdown",
   "id": "86d29a70",
   "metadata": {},
   "source": [
    "## Discipline to Search Solutions in Google"
   ]
  },
  {
   "cell_type": "markdown",
   "id": "6e4337ce",
   "metadata": {},
   "source": [
    "> Apply the following steps when **looking for solutions in Google**:\n",
    ">\n",
    "> 1. **Necesity**: How to load an Excel in Python?\n",
    "> 2. **Search in Google**: by keywords\n",
    ">   - `load excel python`\n",
    ">   - ~~how to load excel in python~~\n",
    "> 3. **Solution**: What's the `function()` that loads an Excel in Python?\n",
    ">   - A Function to Programming is what the Atom to Phisics.\n",
    ">   - Every time you want to do something in programming\n",
    ">   - **You will need a `function()`** to make it\n",
    ">   - Theferore, you must **detect parenthesis `()`**\n",
    ">   - Out of all the words that you see in a website\n",
    ">   - Because they indicate the presence of a `function()`."
   ]
  },
  {
   "cell_type": "markdown",
   "id": "cf8faa78",
   "metadata": {},
   "source": [
    "## External Functions"
   ]
  },
  {
   "cell_type": "markdown",
   "id": "9f8e0836",
   "metadata": {},
   "source": [
    "> Download [this Excel](https://github.com/sotastica/data/raw/main/internet_usage_spain.xlsx).\n",
    "> Apply the above discipline and make it happen 🚀\n",
    "> I want to see the table, c'mon 👇"
   ]
  },
  {
   "cell_type": "code",
   "execution_count": 30,
   "id": "fd283a76-2ff4-4eb3-9359-60e4ffab8c46",
   "metadata": {},
   "outputs": [],
   "source": [
    "import pandas as pd"
   ]
  },
  {
   "cell_type": "code",
   "execution_count": 38,
   "id": "7aeb0622-7c85-41be-ae01-e2b27c771cfc",
   "metadata": {},
   "outputs": [
    {
     "data": {
      "text/html": [
       "<div>\n",
       "<style scoped>\n",
       "    .dataframe tbody tr th:only-of-type {\n",
       "        vertical-align: middle;\n",
       "    }\n",
       "\n",
       "    .dataframe tbody tr th {\n",
       "        vertical-align: top;\n",
       "    }\n",
       "\n",
       "    .dataframe thead th {\n",
       "        text-align: right;\n",
       "    }\n",
       "</style>\n",
       "<table border=\"1\" class=\"dataframe\">\n",
       "  <thead>\n",
       "    <tr style=\"text-align: right;\">\n",
       "      <th></th>\n",
       "      <th>internet_usage</th>\n",
       "      <th>sex</th>\n",
       "      <th>age</th>\n",
       "      <th>education</th>\n",
       "    </tr>\n",
       "  </thead>\n",
       "  <tbody>\n",
       "    <tr>\n",
       "      <th>0</th>\n",
       "      <td>0</td>\n",
       "      <td>Female</td>\n",
       "      <td>66</td>\n",
       "      <td>Elementary</td>\n",
       "    </tr>\n",
       "    <tr>\n",
       "      <th>1</th>\n",
       "      <td>1</td>\n",
       "      <td>Male</td>\n",
       "      <td>72</td>\n",
       "      <td>Elementary</td>\n",
       "    </tr>\n",
       "    <tr>\n",
       "      <th>2</th>\n",
       "      <td>1</td>\n",
       "      <td>Male</td>\n",
       "      <td>48</td>\n",
       "      <td>University</td>\n",
       "    </tr>\n",
       "    <tr>\n",
       "      <th>3</th>\n",
       "      <td>0</td>\n",
       "      <td>Male</td>\n",
       "      <td>59</td>\n",
       "      <td>PhD</td>\n",
       "    </tr>\n",
       "    <tr>\n",
       "      <th>4</th>\n",
       "      <td>1</td>\n",
       "      <td>Female</td>\n",
       "      <td>44</td>\n",
       "      <td>PhD</td>\n",
       "    </tr>\n",
       "    <tr>\n",
       "      <th>...</th>\n",
       "      <td>...</td>\n",
       "      <td>...</td>\n",
       "      <td>...</td>\n",
       "      <td>...</td>\n",
       "    </tr>\n",
       "    <tr>\n",
       "      <th>2450</th>\n",
       "      <td>1</td>\n",
       "      <td>Male</td>\n",
       "      <td>43</td>\n",
       "      <td>Elementary</td>\n",
       "    </tr>\n",
       "    <tr>\n",
       "      <th>2451</th>\n",
       "      <td>1</td>\n",
       "      <td>Female</td>\n",
       "      <td>18</td>\n",
       "      <td>High School</td>\n",
       "    </tr>\n",
       "    <tr>\n",
       "      <th>2452</th>\n",
       "      <td>0</td>\n",
       "      <td>Female</td>\n",
       "      <td>54</td>\n",
       "      <td>Elementary</td>\n",
       "    </tr>\n",
       "    <tr>\n",
       "      <th>2453</th>\n",
       "      <td>1</td>\n",
       "      <td>Male</td>\n",
       "      <td>31</td>\n",
       "      <td>High School</td>\n",
       "    </tr>\n",
       "    <tr>\n",
       "      <th>2454</th>\n",
       "      <td>0</td>\n",
       "      <td>Male</td>\n",
       "      <td>52</td>\n",
       "      <td>Elementary</td>\n",
       "    </tr>\n",
       "  </tbody>\n",
       "</table>\n",
       "<p>2455 rows × 4 columns</p>\n",
       "</div>"
      ],
      "text/plain": [
       "      internet_usage     sex  age    education\n",
       "0                  0  Female   66   Elementary\n",
       "1                  1    Male   72   Elementary\n",
       "2                  1    Male   48   University\n",
       "3                  0    Male   59          PhD\n",
       "4                  1  Female   44          PhD\n",
       "...              ...     ...  ...          ...\n",
       "2450               1    Male   43   Elementary\n",
       "2451               1  Female   18  High School\n",
       "2452               0  Female   54   Elementary\n",
       "2453               1    Male   31  High School\n",
       "2454               0    Male   52   Elementary\n",
       "\n",
       "[2455 rows x 4 columns]"
      ]
     },
     "execution_count": 38,
     "metadata": {},
     "output_type": "execute_result"
    }
   ],
   "source": [
    "pd.read_excel(io=\"internet_usage_spain.xlsx\",sheet_name='internet_usage')"
   ]
  },
  {
   "cell_type": "code",
   "execution_count": 35,
   "id": "64f922a2-a2e8-4e0b-a93f-ead2fd98cdfb",
   "metadata": {},
   "outputs": [
    {
     "data": {
      "text/html": [
       "<div>\n",
       "<style scoped>\n",
       "    .dataframe tbody tr th:only-of-type {\n",
       "        vertical-align: middle;\n",
       "    }\n",
       "\n",
       "    .dataframe tbody tr th {\n",
       "        vertical-align: top;\n",
       "    }\n",
       "\n",
       "    .dataframe thead th {\n",
       "        text-align: right;\n",
       "    }\n",
       "</style>\n",
       "<table border=\"1\" class=\"dataframe\">\n",
       "  <thead>\n",
       "    <tr style=\"text-align: right;\">\n",
       "      <th></th>\n",
       "      <th>internet_usage</th>\n",
       "      <th>sex</th>\n",
       "      <th>age</th>\n",
       "      <th>education</th>\n",
       "    </tr>\n",
       "  </thead>\n",
       "  <tbody>\n",
       "    <tr>\n",
       "      <th>0</th>\n",
       "      <td>0</td>\n",
       "      <td>Female</td>\n",
       "      <td>66</td>\n",
       "      <td>Elementary</td>\n",
       "    </tr>\n",
       "    <tr>\n",
       "      <th>1</th>\n",
       "      <td>1</td>\n",
       "      <td>Male</td>\n",
       "      <td>72</td>\n",
       "      <td>Elementary</td>\n",
       "    </tr>\n",
       "    <tr>\n",
       "      <th>2</th>\n",
       "      <td>1</td>\n",
       "      <td>Male</td>\n",
       "      <td>48</td>\n",
       "      <td>University</td>\n",
       "    </tr>\n",
       "    <tr>\n",
       "      <th>3</th>\n",
       "      <td>0</td>\n",
       "      <td>Male</td>\n",
       "      <td>59</td>\n",
       "      <td>PhD</td>\n",
       "    </tr>\n",
       "    <tr>\n",
       "      <th>4</th>\n",
       "      <td>1</td>\n",
       "      <td>Female</td>\n",
       "      <td>44</td>\n",
       "      <td>PhD</td>\n",
       "    </tr>\n",
       "    <tr>\n",
       "      <th>...</th>\n",
       "      <td>...</td>\n",
       "      <td>...</td>\n",
       "      <td>...</td>\n",
       "      <td>...</td>\n",
       "    </tr>\n",
       "    <tr>\n",
       "      <th>2450</th>\n",
       "      <td>1</td>\n",
       "      <td>Male</td>\n",
       "      <td>43</td>\n",
       "      <td>Elementary</td>\n",
       "    </tr>\n",
       "    <tr>\n",
       "      <th>2451</th>\n",
       "      <td>1</td>\n",
       "      <td>Female</td>\n",
       "      <td>18</td>\n",
       "      <td>High School</td>\n",
       "    </tr>\n",
       "    <tr>\n",
       "      <th>2452</th>\n",
       "      <td>0</td>\n",
       "      <td>Female</td>\n",
       "      <td>54</td>\n",
       "      <td>Elementary</td>\n",
       "    </tr>\n",
       "    <tr>\n",
       "      <th>2453</th>\n",
       "      <td>1</td>\n",
       "      <td>Male</td>\n",
       "      <td>31</td>\n",
       "      <td>High School</td>\n",
       "    </tr>\n",
       "    <tr>\n",
       "      <th>2454</th>\n",
       "      <td>0</td>\n",
       "      <td>Male</td>\n",
       "      <td>52</td>\n",
       "      <td>Elementary</td>\n",
       "    </tr>\n",
       "  </tbody>\n",
       "</table>\n",
       "<p>2455 rows × 4 columns</p>\n",
       "</div>"
      ],
      "text/plain": [
       "      internet_usage     sex  age    education\n",
       "0                  0  Female   66   Elementary\n",
       "1                  1    Male   72   Elementary\n",
       "2                  1    Male   48   University\n",
       "3                  0    Male   59          PhD\n",
       "4                  1  Female   44          PhD\n",
       "...              ...     ...  ...          ...\n",
       "2450               1    Male   43   Elementary\n",
       "2451               1  Female   18  High School\n",
       "2452               0  Female   54   Elementary\n",
       "2453               1    Male   31  High School\n",
       "2454               0    Male   52   Elementary\n",
       "\n",
       "[2455 rows x 4 columns]"
      ]
     },
     "execution_count": 35,
     "metadata": {},
     "output_type": "execute_result"
    }
   ],
   "source": [
    "pd.read_excel(io=\"internet_usage_spain.xlsx\",sheet_name=1)"
   ]
  },
  {
   "cell_type": "code",
   "execution_count": null,
   "id": "e384686a-49ad-40cb-9c79-21ede5d72466",
   "metadata": {},
   "outputs": [],
   "source": []
  },
  {
   "cell_type": "markdown",
   "id": "7d4d82fd",
   "metadata": {},
   "source": [
    "## The Elements of Programming"
   ]
  },
  {
   "cell_type": "markdown",
   "id": "8c5fa32a",
   "metadata": {},
   "source": [
    "> - `Library`: where the code of functions are stored.\n",
    ">   - `Function`: execute several lines of code with one `word()`.\n",
    ">       - `Parameter`: to **configure** the function's behaviour.\n",
    ">           - `Object`: **data structure** to store information."
   ]
  },
  {
   "cell_type": "code",
   "execution_count": 39,
   "id": "6129d5ff-181b-437d-a690-e0d13a66993d",
   "metadata": {},
   "outputs": [
    {
     "ename": "NameError",
     "evalue": "name 'df' is not defined",
     "output_type": "error",
     "traceback": [
      "\u001b[0;31m---------------------------------------------------------------------------\u001b[0m",
      "\u001b[0;31mNameError\u001b[0m                                 Traceback (most recent call last)",
      "\u001b[0;32m/var/folders/24/tg28vxls25l9mjvqrnh0plc80000gn/T/ipykernel_94682/1396537375.py\u001b[0m in \u001b[0;36m<module>\u001b[0;34m\u001b[0m\n\u001b[0;32m----> 1\u001b[0;31m \u001b[0mdf\u001b[0m\u001b[0;34m\u001b[0m\u001b[0;34m\u001b[0m\u001b[0m\n\u001b[0m",
      "\u001b[0;31mNameError\u001b[0m: name 'df' is not defined"
     ]
    }
   ],
   "source": [
    "df"
   ]
  },
  {
   "cell_type": "markdown",
   "id": "140dd81d",
   "metadata": {},
   "source": [
    "## Code Syntax"
   ]
  },
  {
   "cell_type": "markdown",
   "id": "e641dd82",
   "metadata": {},
   "source": [
    "**What happens inside the computer when we run the code?**\n",
    "\n",
    "> In which order Python reads the line of code?\n",
    "> - From left to right.\n",
    "> - From up to down.\n",
    "> Which elements are being used in the previous line of code?"
   ]
  },
  {
   "cell_type": "code",
   "execution_count": 42,
   "id": "57fd91eb-81f7-4c61-b0f3-97f6f17fd813",
   "metadata": {},
   "outputs": [
    {
     "ename": "NameError",
     "evalue": "name 'fit' is not defined",
     "output_type": "error",
     "traceback": [
      "\u001b[0;31m---------------------------------------------------------------------------\u001b[0m",
      "\u001b[0;31mNameError\u001b[0m                                 Traceback (most recent call last)",
      "\u001b[0;32m/var/folders/24/tg28vxls25l9mjvqrnh0plc80000gn/T/ipykernel_94682/3324602025.py\u001b[0m in \u001b[0;36m<module>\u001b[0;34m\u001b[0m\n\u001b[0;32m----> 1\u001b[0;31m \u001b[0mfit\u001b[0m\u001b[0;34m(\u001b[0m\u001b[0;34m)\u001b[0m\u001b[0;34m\u001b[0m\u001b[0;34m\u001b[0m\u001b[0m\n\u001b[0m",
      "\u001b[0;31mNameError\u001b[0m: name 'fit' is not defined"
     ]
    }
   ],
   "source": [
    "fit()"
   ]
  },
  {
   "cell_type": "code",
   "execution_count": 43,
   "id": "2fc8069d-db6a-4317-96af-dc5294b0a710",
   "metadata": {},
   "outputs": [
    {
     "ename": "NameError",
     "evalue": "name 'algo' is not defined",
     "output_type": "error",
     "traceback": [
      "\u001b[0;31m---------------------------------------------------------------------------\u001b[0m",
      "\u001b[0;31mNameError\u001b[0m                                 Traceback (most recent call last)",
      "\u001b[0;32m/var/folders/24/tg28vxls25l9mjvqrnh0plc80000gn/T/ipykernel_94682/22777151.py\u001b[0m in \u001b[0;36m<module>\u001b[0;34m\u001b[0m\n\u001b[0;32m----> 1\u001b[0;31m \u001b[0malgo\u001b[0m\u001b[0;34m.\u001b[0m\u001b[0mfit\u001b[0m\u001b[0;34m(\u001b[0m\u001b[0;34m)\u001b[0m\u001b[0;34m\u001b[0m\u001b[0;34m\u001b[0m\u001b[0m\n\u001b[0m",
      "\u001b[0;31mNameError\u001b[0m: name 'algo' is not defined"
     ]
    }
   ],
   "source": [
    "algo.fit()"
   ]
  },
  {
   "cell_type": "markdown",
   "id": "99b00eae-eb0c-4e75-aca2-8241e5010d3e",
   "metadata": {},
   "source": [
    "`algo = ?`"
   ]
  },
  {
   "cell_type": "code",
   "execution_count": 44,
   "id": "6d1fe759-3de7-4f8d-a0b3-bb2ed94ac037",
   "metadata": {},
   "outputs": [
    {
     "ename": "NameError",
     "evalue": "name 'LinearRegression' is not defined",
     "output_type": "error",
     "traceback": [
      "\u001b[0;31m---------------------------------------------------------------------------\u001b[0m",
      "\u001b[0;31mNameError\u001b[0m                                 Traceback (most recent call last)",
      "\u001b[0;32m/var/folders/24/tg28vxls25l9mjvqrnh0plc80000gn/T/ipykernel_94682/3004910424.py\u001b[0m in \u001b[0;36m<module>\u001b[0;34m\u001b[0m\n\u001b[0;32m----> 1\u001b[0;31m \u001b[0malgo\u001b[0m \u001b[0;34m=\u001b[0m \u001b[0mLinearRegression\u001b[0m\u001b[0;34m(\u001b[0m\u001b[0;34m)\u001b[0m\u001b[0;34m\u001b[0m\u001b[0;34m\u001b[0m\u001b[0m\n\u001b[0m",
      "\u001b[0;31mNameError\u001b[0m: name 'LinearRegression' is not defined"
     ]
    }
   ],
   "source": [
    "algo = LinearRegression()"
   ]
  },
  {
   "cell_type": "code",
   "execution_count": 45,
   "id": "aefddbe2-537f-422f-93df-769984dd909f",
   "metadata": {},
   "outputs": [],
   "source": [
    "from sklearn.linear_model import LinearRegression"
   ]
  },
  {
   "cell_type": "code",
   "execution_count": 47,
   "id": "251a335b-f859-4e86-9a02-1fc694cde0c8",
   "metadata": {},
   "outputs": [],
   "source": [
    "from sklearn.ensemble import RandomForestClassifier"
   ]
  },
  {
   "cell_type": "code",
   "execution_count": 48,
   "id": "c6490f16-7fd7-4c85-940e-1924274a667c",
   "metadata": {},
   "outputs": [],
   "source": [
    "rf = RandomForestClassifier()"
   ]
  },
  {
   "cell_type": "code",
   "execution_count": null,
   "id": "9c63898f-3e92-404c-8d72-8e7d2d6dab0f",
   "metadata": {},
   "outputs": [],
   "source": [
    "rf.fit"
   ]
  },
  {
   "cell_type": "code",
   "execution_count": 46,
   "id": "1aefe82c-cbb0-4759-8959-9651397df01b",
   "metadata": {},
   "outputs": [],
   "source": [
    "algo = LinearRegression()"
   ]
  },
  {
   "cell_type": "code",
   "execution_count": null,
   "id": "85b0cc3a-6610-4817-982d-e3f448495585",
   "metadata": {},
   "outputs": [],
   "source": [
    "algo."
   ]
  },
  {
   "cell_type": "code",
   "execution_count": null,
   "id": "c05a2729-98c8-46df-bdb0-3349099d97bc",
   "metadata": {},
   "outputs": [],
   "source": [
    "pd."
   ]
  },
  {
   "cell_type": "code",
   "execution_count": 53,
   "id": "666ebc58-2ce8-43e0-bbc6-bd072f9ef0a9",
   "metadata": {},
   "outputs": [
    {
     "data": {
      "text/plain": [
       "['holaq', 'ue', 'tal']"
      ]
     },
     "execution_count": 53,
     "metadata": {},
     "output_type": "execute_result"
    }
   ],
   "source": [
    "'holaq ue tal'.split()"
   ]
  },
  {
   "cell_type": "markdown",
   "id": "0daa54e6-4ef1-490e-90a4-316965563f1f",
   "metadata": {},
   "source": [
    "1. `libreria`\n",
    "2. `.` **DOT NOTATION** para acceder dentro de la libreria a las funciones u otras cosas...\n",
    "3. `funcion()`\n",
    "4. pasamos `objetos` a los `argumentos`\n",
    "5. ejecutamos\n",
    "6. \n",
    "7. la funcion te devuelve un `objeto`"
   ]
  },
  {
   "cell_type": "code",
   "execution_count": 50,
   "id": "ac855d15-ed48-4433-8a23-bff9f4b4b635",
   "metadata": {},
   "outputs": [
    {
     "data": {
      "text/plain": [
       "str"
      ]
     },
     "execution_count": 50,
     "metadata": {},
     "output_type": "execute_result"
    }
   ],
   "source": [
    "type(\"internet_usage_spain.xlsx\")"
   ]
  },
  {
   "cell_type": "code",
   "execution_count": null,
   "id": "3b588459-8477-461b-b059-2a9770f00064",
   "metadata": {},
   "outputs": [],
   "source": []
  },
  {
   "cell_type": "code",
   "execution_count": 52,
   "id": "8b7fc87c-5452-446e-b2a8-384f0dddf3b4",
   "metadata": {},
   "outputs": [
    {
     "data": {
      "text/html": [
       "<div>\n",
       "<style scoped>\n",
       "    .dataframe tbody tr th:only-of-type {\n",
       "        vertical-align: middle;\n",
       "    }\n",
       "\n",
       "    .dataframe tbody tr th {\n",
       "        vertical-align: top;\n",
       "    }\n",
       "\n",
       "    .dataframe thead th {\n",
       "        text-align: right;\n",
       "    }\n",
       "</style>\n",
       "<table border=\"1\" class=\"dataframe\">\n",
       "  <thead>\n",
       "    <tr style=\"text-align: right;\">\n",
       "      <th></th>\n",
       "      <th>internet_usage</th>\n",
       "      <th>sex</th>\n",
       "      <th>age</th>\n",
       "      <th>education</th>\n",
       "    </tr>\n",
       "  </thead>\n",
       "  <tbody>\n",
       "    <tr>\n",
       "      <th>0</th>\n",
       "      <td>0</td>\n",
       "      <td>Female</td>\n",
       "      <td>66</td>\n",
       "      <td>Elementary</td>\n",
       "    </tr>\n",
       "    <tr>\n",
       "      <th>1</th>\n",
       "      <td>1</td>\n",
       "      <td>Male</td>\n",
       "      <td>72</td>\n",
       "      <td>Elementary</td>\n",
       "    </tr>\n",
       "    <tr>\n",
       "      <th>2</th>\n",
       "      <td>1</td>\n",
       "      <td>Male</td>\n",
       "      <td>48</td>\n",
       "      <td>University</td>\n",
       "    </tr>\n",
       "    <tr>\n",
       "      <th>3</th>\n",
       "      <td>0</td>\n",
       "      <td>Male</td>\n",
       "      <td>59</td>\n",
       "      <td>PhD</td>\n",
       "    </tr>\n",
       "    <tr>\n",
       "      <th>4</th>\n",
       "      <td>1</td>\n",
       "      <td>Female</td>\n",
       "      <td>44</td>\n",
       "      <td>PhD</td>\n",
       "    </tr>\n",
       "    <tr>\n",
       "      <th>...</th>\n",
       "      <td>...</td>\n",
       "      <td>...</td>\n",
       "      <td>...</td>\n",
       "      <td>...</td>\n",
       "    </tr>\n",
       "    <tr>\n",
       "      <th>2450</th>\n",
       "      <td>1</td>\n",
       "      <td>Male</td>\n",
       "      <td>43</td>\n",
       "      <td>Elementary</td>\n",
       "    </tr>\n",
       "    <tr>\n",
       "      <th>2451</th>\n",
       "      <td>1</td>\n",
       "      <td>Female</td>\n",
       "      <td>18</td>\n",
       "      <td>High School</td>\n",
       "    </tr>\n",
       "    <tr>\n",
       "      <th>2452</th>\n",
       "      <td>0</td>\n",
       "      <td>Female</td>\n",
       "      <td>54</td>\n",
       "      <td>Elementary</td>\n",
       "    </tr>\n",
       "    <tr>\n",
       "      <th>2453</th>\n",
       "      <td>1</td>\n",
       "      <td>Male</td>\n",
       "      <td>31</td>\n",
       "      <td>High School</td>\n",
       "    </tr>\n",
       "    <tr>\n",
       "      <th>2454</th>\n",
       "      <td>0</td>\n",
       "      <td>Male</td>\n",
       "      <td>52</td>\n",
       "      <td>Elementary</td>\n",
       "    </tr>\n",
       "  </tbody>\n",
       "</table>\n",
       "<p>2455 rows × 4 columns</p>\n",
       "</div>"
      ],
      "text/plain": [
       "      internet_usage     sex  age    education\n",
       "0                  0  Female   66   Elementary\n",
       "1                  1    Male   72   Elementary\n",
       "2                  1    Male   48   University\n",
       "3                  0    Male   59          PhD\n",
       "4                  1  Female   44          PhD\n",
       "...              ...     ...  ...          ...\n",
       "2450               1    Male   43   Elementary\n",
       "2451               1  Female   18  High School\n",
       "2452               0  Female   54   Elementary\n",
       "2453               1    Male   31  High School\n",
       "2454               0    Male   52   Elementary\n",
       "\n",
       "[2455 rows x 4 columns]"
      ]
     },
     "execution_count": 52,
     "metadata": {},
     "output_type": "execute_result"
    }
   ],
   "source": [
    "pd.read_excel(io=\"internet_usage_spain.xlsx\",sheet_name=1)"
   ]
  },
  {
   "cell_type": "code",
   "execution_count": 54,
   "id": "7bd35b09-794c-4525-9859-e758d64f02ee",
   "metadata": {},
   "outputs": [
    {
     "name": "stderr",
     "output_type": "stream",
     "text": [
      "/var/folders/24/tg28vxls25l9mjvqrnh0plc80000gn/T/ipykernel_94682/3527767804.py:1: FutureWarning: Dropping of nuisance columns in DataFrame reductions (with 'numeric_only=None') is deprecated; in a future version this will raise TypeError.  Select only valid columns before calling the reduction.\n",
      "  pd.read_excel(io=\"internet_usage_spain.xlsx\",sheet_name=1).mean()\n"
     ]
    },
    {
     "data": {
      "text/plain": [
       "internet_usage     0.535642\n",
       "age               46.798778\n",
       "dtype: float64"
      ]
     },
     "execution_count": 54,
     "metadata": {},
     "output_type": "execute_result"
    }
   ],
   "source": [
    "pd.read_excel(io=\"internet_usage_spain.xlsx\",sheet_name=1).mean()"
   ]
  },
  {
   "cell_type": "code",
   "execution_count": 55,
   "id": "4d92a167-4ea7-4867-9f1c-8d506bf52295",
   "metadata": {},
   "outputs": [],
   "source": [
    "df = pd.read_excel(io=\"internet_usage_spain.xlsx\",sheet_name=1)"
   ]
  },
  {
   "cell_type": "code",
   "execution_count": 56,
   "id": "d70806ac-de05-4c49-866c-b76cb8fea252",
   "metadata": {},
   "outputs": [
    {
     "name": "stderr",
     "output_type": "stream",
     "text": [
      "/var/folders/24/tg28vxls25l9mjvqrnh0plc80000gn/T/ipykernel_94682/3698961737.py:1: FutureWarning: Dropping of nuisance columns in DataFrame reductions (with 'numeric_only=None') is deprecated; in a future version this will raise TypeError.  Select only valid columns before calling the reduction.\n",
      "  df.mean()\n"
     ]
    },
    {
     "data": {
      "text/plain": [
       "internet_usage     0.535642\n",
       "age               46.798778\n",
       "dtype: float64"
      ]
     },
     "execution_count": 56,
     "metadata": {},
     "output_type": "execute_result"
    }
   ],
   "source": [
    "df.mean()"
   ]
  },
  {
   "cell_type": "code",
   "execution_count": 59,
   "id": "bd84c1fd-b108-468b-aab0-67ea2aa097ea",
   "metadata": {},
   "outputs": [],
   "source": [
    "df = pd.read_excel(io=\"internet_usage_spain.xlsx\",sheet_name=1)"
   ]
  },
  {
   "cell_type": "code",
   "execution_count": 61,
   "id": "e0006e29-0786-4bdb-8dec-ebc64f52db7f",
   "metadata": {},
   "outputs": [
    {
     "data": {
      "text/plain": [
       "internet_usage     0.535642\n",
       "age               46.798778\n",
       "dtype: float64"
      ]
     },
     "execution_count": 61,
     "metadata": {},
     "output_type": "execute_result"
    }
   ],
   "source": [
    "df.mean(numeric_only=True)"
   ]
  },
  {
   "cell_type": "markdown",
   "id": "af9fe10f",
   "metadata": {},
   "source": [
    "## Functions inside Objects"
   ]
  },
  {
   "cell_type": "markdown",
   "id": "9247d614",
   "metadata": {},
   "source": [
    "> - The `dog` makes `guau()`: `dog.guau()`\n",
    "> - The `cat` makes `miau()`: `cat.miau()`\n",
    "> - What could a `DataFrame` make? `object.` + `[tab key]`"
   ]
  },
  {
   "cell_type": "code",
   "execution_count": 66,
   "id": "6bddecc7-4a52-4110-86b8-6ec3d21d5a8a",
   "metadata": {},
   "outputs": [
    {
     "data": {
      "text/plain": [
       "pandas.core.frame.DataFrame"
      ]
     },
     "execution_count": 66,
     "metadata": {},
     "output_type": "execute_result"
    }
   ],
   "source": [
    "type(df)"
   ]
  },
  {
   "cell_type": "code",
   "execution_count": 68,
   "id": "8b2eff8c-4b67-4564-872c-db6086ba0a44",
   "metadata": {},
   "outputs": [
    {
     "data": {
      "text/plain": [
       "pandas.core.frame.DataFrame"
      ]
     },
     "execution_count": 68,
     "metadata": {},
     "output_type": "execute_result"
    }
   ],
   "source": [
    "type(df.describe())"
   ]
  },
  {
   "cell_type": "code",
   "execution_count": 71,
   "id": "285cdf73-0557-435c-880a-86dab3c698d2",
   "metadata": {},
   "outputs": [
    {
     "data": {
      "text/plain": [
       "2614.328699627561"
      ]
     },
     "execution_count": 71,
     "metadata": {},
     "output_type": "execute_result"
    }
   ],
   "source": [
    "df.describe().sum().mean()"
   ]
  },
  {
   "cell_type": "code",
   "execution_count": 72,
   "id": "2f4d8a74-77c5-410d-81dd-2aa13d9b7b56",
   "metadata": {},
   "outputs": [
    {
     "ename": "AttributeError",
     "evalue": "'numpy.float64' object has no attribute 'describe'",
     "output_type": "error",
     "traceback": [
      "\u001b[0;31m---------------------------------------------------------------------------\u001b[0m",
      "\u001b[0;31mAttributeError\u001b[0m                            Traceback (most recent call last)",
      "\u001b[0;32m/var/folders/24/tg28vxls25l9mjvqrnh0plc80000gn/T/ipykernel_94682/2478676723.py\u001b[0m in \u001b[0;36m<module>\u001b[0;34m\u001b[0m\n\u001b[0;32m----> 1\u001b[0;31m \u001b[0mdf\u001b[0m\u001b[0;34m.\u001b[0m\u001b[0mdescribe\u001b[0m\u001b[0;34m(\u001b[0m\u001b[0;34m)\u001b[0m\u001b[0;34m.\u001b[0m\u001b[0msum\u001b[0m\u001b[0;34m(\u001b[0m\u001b[0;34m)\u001b[0m\u001b[0;34m.\u001b[0m\u001b[0mmean\u001b[0m\u001b[0;34m(\u001b[0m\u001b[0;34m)\u001b[0m\u001b[0;34m.\u001b[0m\u001b[0mdescribe\u001b[0m\u001b[0;34m(\u001b[0m\u001b[0;34m)\u001b[0m\u001b[0;34m\u001b[0m\u001b[0;34m\u001b[0m\u001b[0m\n\u001b[0m",
      "\u001b[0;31mAttributeError\u001b[0m: 'numpy.float64' object has no attribute 'describe'"
     ]
    }
   ],
   "source": [
    "df.describe().sum().mean().describe()"
   ]
  },
  {
   "cell_type": "code",
   "execution_count": 73,
   "id": "a9bc402c-500c-4086-8b8d-5898e3b8fb91",
   "metadata": {},
   "outputs": [],
   "source": [
    "a = 89"
   ]
  },
  {
   "cell_type": "code",
   "execution_count": 74,
   "id": "6e0a3bf1-1940-4c3e-80de-99d519781cc3",
   "metadata": {},
   "outputs": [
    {
     "data": {
      "text/plain": [
       "89"
      ]
     },
     "execution_count": 74,
     "metadata": {},
     "output_type": "execute_result"
    }
   ],
   "source": [
    "a"
   ]
  },
  {
   "cell_type": "markdown",
   "id": "0d064658",
   "metadata": {},
   "source": [
    "## Conclusion | Types of Functions"
   ]
  },
  {
   "cell_type": "markdown",
   "id": "85a24444",
   "metadata": {},
   "source": [
    "> 1. Buit-in (Predefined) Functions\n",
    "> 2. External Functions from Libraries\n",
    "> 3. Functions within Objects"
   ]
  },
  {
   "cell_type": "code",
   "execution_count": 77,
   "id": "45c7c2df-e832-4a00-a9d5-715ac8e48ba3",
   "metadata": {},
   "outputs": [
    {
     "data": {
      "text/plain": [
       "2455"
      ]
     },
     "execution_count": 77,
     "metadata": {},
     "output_type": "execute_result"
    }
   ],
   "source": [
    "df.education.count()"
   ]
  },
  {
   "cell_type": "code",
   "execution_count": 78,
   "id": "bbfe58e3-14fb-4da7-93af-9af667e7109e",
   "metadata": {},
   "outputs": [
    {
     "data": {
      "text/plain": [
       "Elementary      1184\n",
       "Higher Level     374\n",
       "High School      279\n",
       "PhD              236\n",
       "University       205\n",
       "No studies       177\n",
       "Name: education, dtype: int64"
      ]
     },
     "execution_count": 78,
     "metadata": {},
     "output_type": "execute_result"
    }
   ],
   "source": [
    "df.education.value_counts()"
   ]
  },
  {
   "cell_type": "markdown",
   "id": "64d133ff",
   "metadata": {},
   "source": [
    "# Accessing `Objects`"
   ]
  },
  {
   "cell_type": "markdown",
   "id": "8c9fe82b",
   "metadata": {},
   "source": [
    "> Objects are **data structures** that store information. \n",
    "> Which **syntax** do we use to access the information?"
   ]
  },
  {
   "cell_type": "markdown",
   "id": "30ec0a18",
   "metadata": {},
   "source": [
    "## Dot Notation `.`"
   ]
  },
  {
   "cell_type": "code",
   "execution_count": 82,
   "id": "33661d5f-8455-4768-b5cb-656df43c9e62",
   "metadata": {},
   "outputs": [
    {
     "data": {
      "text/html": [
       "<div>\n",
       "<style scoped>\n",
       "    .dataframe tbody tr th:only-of-type {\n",
       "        vertical-align: middle;\n",
       "    }\n",
       "\n",
       "    .dataframe tbody tr th {\n",
       "        vertical-align: top;\n",
       "    }\n",
       "\n",
       "    .dataframe thead th {\n",
       "        text-align: right;\n",
       "    }\n",
       "</style>\n",
       "<table border=\"1\" class=\"dataframe\">\n",
       "  <thead>\n",
       "    <tr style=\"text-align: right;\">\n",
       "      <th></th>\n",
       "      <th>internet_usage</th>\n",
       "      <th>sex</th>\n",
       "      <th>age</th>\n",
       "      <th>education</th>\n",
       "    </tr>\n",
       "  </thead>\n",
       "  <tbody>\n",
       "    <tr>\n",
       "      <th>0</th>\n",
       "      <td>0</td>\n",
       "      <td>Female</td>\n",
       "      <td>66</td>\n",
       "      <td>Elementary</td>\n",
       "    </tr>\n",
       "    <tr>\n",
       "      <th>1</th>\n",
       "      <td>1</td>\n",
       "      <td>Male</td>\n",
       "      <td>72</td>\n",
       "      <td>Elementary</td>\n",
       "    </tr>\n",
       "    <tr>\n",
       "      <th>2</th>\n",
       "      <td>1</td>\n",
       "      <td>Male</td>\n",
       "      <td>48</td>\n",
       "      <td>University</td>\n",
       "    </tr>\n",
       "    <tr>\n",
       "      <th>3</th>\n",
       "      <td>0</td>\n",
       "      <td>Male</td>\n",
       "      <td>59</td>\n",
       "      <td>PhD</td>\n",
       "    </tr>\n",
       "    <tr>\n",
       "      <th>4</th>\n",
       "      <td>1</td>\n",
       "      <td>Female</td>\n",
       "      <td>44</td>\n",
       "      <td>PhD</td>\n",
       "    </tr>\n",
       "    <tr>\n",
       "      <th>...</th>\n",
       "      <td>...</td>\n",
       "      <td>...</td>\n",
       "      <td>...</td>\n",
       "      <td>...</td>\n",
       "    </tr>\n",
       "    <tr>\n",
       "      <th>2450</th>\n",
       "      <td>1</td>\n",
       "      <td>Male</td>\n",
       "      <td>43</td>\n",
       "      <td>Elementary</td>\n",
       "    </tr>\n",
       "    <tr>\n",
       "      <th>2451</th>\n",
       "      <td>1</td>\n",
       "      <td>Female</td>\n",
       "      <td>18</td>\n",
       "      <td>High School</td>\n",
       "    </tr>\n",
       "    <tr>\n",
       "      <th>2452</th>\n",
       "      <td>0</td>\n",
       "      <td>Female</td>\n",
       "      <td>54</td>\n",
       "      <td>Elementary</td>\n",
       "    </tr>\n",
       "    <tr>\n",
       "      <th>2453</th>\n",
       "      <td>1</td>\n",
       "      <td>Male</td>\n",
       "      <td>31</td>\n",
       "      <td>High School</td>\n",
       "    </tr>\n",
       "    <tr>\n",
       "      <th>2454</th>\n",
       "      <td>0</td>\n",
       "      <td>Male</td>\n",
       "      <td>52</td>\n",
       "      <td>Elementary</td>\n",
       "    </tr>\n",
       "  </tbody>\n",
       "</table>\n",
       "<p>2455 rows × 4 columns</p>\n",
       "</div>"
      ],
      "text/plain": [
       "      internet_usage     sex  age    education\n",
       "0                  0  Female   66   Elementary\n",
       "1                  1    Male   72   Elementary\n",
       "2                  1    Male   48   University\n",
       "3                  0    Male   59          PhD\n",
       "4                  1  Female   44          PhD\n",
       "...              ...     ...  ...          ...\n",
       "2450               1    Male   43   Elementary\n",
       "2451               1  Female   18  High School\n",
       "2452               0  Female   54   Elementary\n",
       "2453               1    Male   31  High School\n",
       "2454               0    Male   52   Elementary\n",
       "\n",
       "[2455 rows x 4 columns]"
      ]
     },
     "execution_count": 82,
     "metadata": {},
     "output_type": "execute_result"
    }
   ],
   "source": [
    "df"
   ]
  },
  {
   "cell_type": "code",
   "execution_count": 81,
   "id": "2a88ab49",
   "metadata": {},
   "outputs": [
    {
     "data": {
      "text/plain": [
       "0        Elementary\n",
       "1        Elementary\n",
       "2        University\n",
       "3               PhD\n",
       "4               PhD\n",
       "           ...     \n",
       "2450     Elementary\n",
       "2451    High School\n",
       "2452     Elementary\n",
       "2453    High School\n",
       "2454     Elementary\n",
       "Name: education, Length: 2455, dtype: object"
      ]
     },
     "execution_count": 81,
     "metadata": {},
     "output_type": "execute_result"
    }
   ],
   "source": [
    "df.education"
   ]
  },
  {
   "cell_type": "markdown",
   "id": "b0281142",
   "metadata": {},
   "source": [
    "## Square Brackets `[]`"
   ]
  },
  {
   "cell_type": "code",
   "execution_count": 84,
   "id": "9ef1e18d",
   "metadata": {},
   "outputs": [
    {
     "data": {
      "text/plain": [
       "Elementary      1184\n",
       "Higher Level     374\n",
       "High School      279\n",
       "PhD              236\n",
       "University       205\n",
       "No studies       177\n",
       "Name: education, dtype: int64"
      ]
     },
     "execution_count": 84,
     "metadata": {},
     "output_type": "execute_result"
    }
   ],
   "source": [
    "df['education'].value_counts()"
   ]
  },
  {
   "cell_type": "markdown",
   "id": "d389f1b6",
   "metadata": {},
   "source": [
    "# Filter & Masking"
   ]
  },
  {
   "cell_type": "markdown",
   "id": "a52aa9bc-32bc-4e82-9669-d575523067b5",
   "metadata": {},
   "source": [
    "## mayores de 70 anos"
   ]
  },
  {
   "cell_type": "code",
   "execution_count": 90,
   "id": "a9792b74-157b-4e73-bee3-31837752d592",
   "metadata": {},
   "outputs": [
    {
     "data": {
      "text/plain": [
       "0       66\n",
       "1       72\n",
       "2       48\n",
       "3       59\n",
       "4       44\n",
       "        ..\n",
       "2450    43\n",
       "2451    18\n",
       "2452    54\n",
       "2453    31\n",
       "2454    52\n",
       "Name: age, Length: 2455, dtype: int64"
      ]
     },
     "execution_count": 90,
     "metadata": {},
     "output_type": "execute_result"
    }
   ],
   "source": [
    "df['age']"
   ]
  },
  {
   "cell_type": "code",
   "execution_count": 92,
   "id": "defb3de1-66f1-4d4b-8850-9b9fc144c9d9",
   "metadata": {},
   "outputs": [
    {
     "data": {
      "text/plain": [
       "pandas.core.series.Series"
      ]
     },
     "execution_count": 92,
     "metadata": {},
     "output_type": "execute_result"
    }
   ],
   "source": [
    "type(df[\"age\"]>70)"
   ]
  },
  {
   "cell_type": "code",
   "execution_count": 94,
   "id": "bd6787b5-94da-4845-80ba-b4e6cad08fa5",
   "metadata": {},
   "outputs": [],
   "source": [
    "mask = df[\"age\"]>70"
   ]
  },
  {
   "cell_type": "code",
   "execution_count": 95,
   "id": "3c8df9aa-5d94-499d-aa65-90bfcb0f7706",
   "metadata": {},
   "outputs": [
    {
     "data": {
      "text/plain": [
       "0       False\n",
       "1        True\n",
       "2       False\n",
       "3       False\n",
       "4       False\n",
       "        ...  \n",
       "2450    False\n",
       "2451    False\n",
       "2452    False\n",
       "2453    False\n",
       "2454    False\n",
       "Name: age, Length: 2455, dtype: bool"
      ]
     },
     "execution_count": 95,
     "metadata": {},
     "output_type": "execute_result"
    }
   ],
   "source": [
    "mask"
   ]
  },
  {
   "cell_type": "code",
   "execution_count": 97,
   "id": "dee91e2c-7547-461a-bcb1-adb37e8624e0",
   "metadata": {},
   "outputs": [
    {
     "data": {
      "text/html": [
       "<div>\n",
       "<style scoped>\n",
       "    .dataframe tbody tr th:only-of-type {\n",
       "        vertical-align: middle;\n",
       "    }\n",
       "\n",
       "    .dataframe tbody tr th {\n",
       "        vertical-align: top;\n",
       "    }\n",
       "\n",
       "    .dataframe thead th {\n",
       "        text-align: right;\n",
       "    }\n",
       "</style>\n",
       "<table border=\"1\" class=\"dataframe\">\n",
       "  <thead>\n",
       "    <tr style=\"text-align: right;\">\n",
       "      <th></th>\n",
       "      <th>internet_usage</th>\n",
       "      <th>sex</th>\n",
       "      <th>age</th>\n",
       "      <th>education</th>\n",
       "    </tr>\n",
       "  </thead>\n",
       "  <tbody>\n",
       "    <tr>\n",
       "      <th>0</th>\n",
       "      <td>0</td>\n",
       "      <td>Female</td>\n",
       "      <td>66</td>\n",
       "      <td>Elementary</td>\n",
       "    </tr>\n",
       "    <tr>\n",
       "      <th>1</th>\n",
       "      <td>1</td>\n",
       "      <td>Male</td>\n",
       "      <td>72</td>\n",
       "      <td>Elementary</td>\n",
       "    </tr>\n",
       "    <tr>\n",
       "      <th>2</th>\n",
       "      <td>1</td>\n",
       "      <td>Male</td>\n",
       "      <td>48</td>\n",
       "      <td>University</td>\n",
       "    </tr>\n",
       "    <tr>\n",
       "      <th>3</th>\n",
       "      <td>0</td>\n",
       "      <td>Male</td>\n",
       "      <td>59</td>\n",
       "      <td>PhD</td>\n",
       "    </tr>\n",
       "    <tr>\n",
       "      <th>4</th>\n",
       "      <td>1</td>\n",
       "      <td>Female</td>\n",
       "      <td>44</td>\n",
       "      <td>PhD</td>\n",
       "    </tr>\n",
       "    <tr>\n",
       "      <th>...</th>\n",
       "      <td>...</td>\n",
       "      <td>...</td>\n",
       "      <td>...</td>\n",
       "      <td>...</td>\n",
       "    </tr>\n",
       "    <tr>\n",
       "      <th>2450</th>\n",
       "      <td>1</td>\n",
       "      <td>Male</td>\n",
       "      <td>43</td>\n",
       "      <td>Elementary</td>\n",
       "    </tr>\n",
       "    <tr>\n",
       "      <th>2451</th>\n",
       "      <td>1</td>\n",
       "      <td>Female</td>\n",
       "      <td>18</td>\n",
       "      <td>High School</td>\n",
       "    </tr>\n",
       "    <tr>\n",
       "      <th>2452</th>\n",
       "      <td>0</td>\n",
       "      <td>Female</td>\n",
       "      <td>54</td>\n",
       "      <td>Elementary</td>\n",
       "    </tr>\n",
       "    <tr>\n",
       "      <th>2453</th>\n",
       "      <td>1</td>\n",
       "      <td>Male</td>\n",
       "      <td>31</td>\n",
       "      <td>High School</td>\n",
       "    </tr>\n",
       "    <tr>\n",
       "      <th>2454</th>\n",
       "      <td>0</td>\n",
       "      <td>Male</td>\n",
       "      <td>52</td>\n",
       "      <td>Elementary</td>\n",
       "    </tr>\n",
       "  </tbody>\n",
       "</table>\n",
       "<p>2455 rows × 4 columns</p>\n",
       "</div>"
      ],
      "text/plain": [
       "      internet_usage     sex  age    education\n",
       "0                  0  Female   66   Elementary\n",
       "1                  1    Male   72   Elementary\n",
       "2                  1    Male   48   University\n",
       "3                  0    Male   59          PhD\n",
       "4                  1  Female   44          PhD\n",
       "...              ...     ...  ...          ...\n",
       "2450               1    Male   43   Elementary\n",
       "2451               1  Female   18  High School\n",
       "2452               0  Female   54   Elementary\n",
       "2453               1    Male   31  High School\n",
       "2454               0    Male   52   Elementary\n",
       "\n",
       "[2455 rows x 4 columns]"
      ]
     },
     "execution_count": 97,
     "metadata": {},
     "output_type": "execute_result"
    }
   ],
   "source": [
    "df"
   ]
  },
  {
   "cell_type": "code",
   "execution_count": 96,
   "id": "cd41c72f-4a01-4b54-8862-7eec4be6724b",
   "metadata": {},
   "outputs": [
    {
     "data": {
      "text/html": [
       "<div>\n",
       "<style scoped>\n",
       "    .dataframe tbody tr th:only-of-type {\n",
       "        vertical-align: middle;\n",
       "    }\n",
       "\n",
       "    .dataframe tbody tr th {\n",
       "        vertical-align: top;\n",
       "    }\n",
       "\n",
       "    .dataframe thead th {\n",
       "        text-align: right;\n",
       "    }\n",
       "</style>\n",
       "<table border=\"1\" class=\"dataframe\">\n",
       "  <thead>\n",
       "    <tr style=\"text-align: right;\">\n",
       "      <th></th>\n",
       "      <th>internet_usage</th>\n",
       "      <th>sex</th>\n",
       "      <th>age</th>\n",
       "      <th>education</th>\n",
       "    </tr>\n",
       "  </thead>\n",
       "  <tbody>\n",
       "    <tr>\n",
       "      <th>1</th>\n",
       "      <td>1</td>\n",
       "      <td>Male</td>\n",
       "      <td>72</td>\n",
       "      <td>Elementary</td>\n",
       "    </tr>\n",
       "    <tr>\n",
       "      <th>10</th>\n",
       "      <td>0</td>\n",
       "      <td>Female</td>\n",
       "      <td>73</td>\n",
       "      <td>Elementary</td>\n",
       "    </tr>\n",
       "    <tr>\n",
       "      <th>14</th>\n",
       "      <td>0</td>\n",
       "      <td>Male</td>\n",
       "      <td>79</td>\n",
       "      <td>No studies</td>\n",
       "    </tr>\n",
       "    <tr>\n",
       "      <th>21</th>\n",
       "      <td>0</td>\n",
       "      <td>Female</td>\n",
       "      <td>84</td>\n",
       "      <td>Elementary</td>\n",
       "    </tr>\n",
       "    <tr>\n",
       "      <th>50</th>\n",
       "      <td>0</td>\n",
       "      <td>Female</td>\n",
       "      <td>90</td>\n",
       "      <td>Elementary</td>\n",
       "    </tr>\n",
       "    <tr>\n",
       "      <th>...</th>\n",
       "      <td>...</td>\n",
       "      <td>...</td>\n",
       "      <td>...</td>\n",
       "      <td>...</td>\n",
       "    </tr>\n",
       "    <tr>\n",
       "      <th>2436</th>\n",
       "      <td>0</td>\n",
       "      <td>Male</td>\n",
       "      <td>82</td>\n",
       "      <td>Elementary</td>\n",
       "    </tr>\n",
       "    <tr>\n",
       "      <th>2439</th>\n",
       "      <td>0</td>\n",
       "      <td>Male</td>\n",
       "      <td>74</td>\n",
       "      <td>Elementary</td>\n",
       "    </tr>\n",
       "    <tr>\n",
       "      <th>2440</th>\n",
       "      <td>0</td>\n",
       "      <td>Female</td>\n",
       "      <td>77</td>\n",
       "      <td>Elementary</td>\n",
       "    </tr>\n",
       "    <tr>\n",
       "      <th>2443</th>\n",
       "      <td>0</td>\n",
       "      <td>Female</td>\n",
       "      <td>80</td>\n",
       "      <td>Elementary</td>\n",
       "    </tr>\n",
       "    <tr>\n",
       "      <th>2449</th>\n",
       "      <td>0</td>\n",
       "      <td>Male</td>\n",
       "      <td>92</td>\n",
       "      <td>No studies</td>\n",
       "    </tr>\n",
       "  </tbody>\n",
       "</table>\n",
       "<p>303 rows × 4 columns</p>\n",
       "</div>"
      ],
      "text/plain": [
       "      internet_usage     sex  age   education\n",
       "1                  1    Male   72  Elementary\n",
       "10                 0  Female   73  Elementary\n",
       "14                 0    Male   79  No studies\n",
       "21                 0  Female   84  Elementary\n",
       "50                 0  Female   90  Elementary\n",
       "...              ...     ...  ...         ...\n",
       "2436               0    Male   82  Elementary\n",
       "2439               0    Male   74  Elementary\n",
       "2440               0  Female   77  Elementary\n",
       "2443               0  Female   80  Elementary\n",
       "2449               0    Male   92  No studies\n",
       "\n",
       "[303 rows x 4 columns]"
      ]
     },
     "execution_count": 96,
     "metadata": {},
     "output_type": "execute_result"
    }
   ],
   "source": [
    "df[mask]"
   ]
  },
  {
   "cell_type": "code",
   "execution_count": null,
   "id": "5cb0459b-e978-439e-89b8-dff3dd483d13",
   "metadata": {},
   "outputs": [],
   "source": []
  },
  {
   "cell_type": "markdown",
   "id": "a73dfbd9-25a2-4f64-b6cc-14c0f4840b4e",
   "metadata": {},
   "source": [
    "## sin estudios"
   ]
  },
  {
   "cell_type": "code",
   "execution_count": 99,
   "id": "ccc19dc0-3639-4608-a681-1fdd2ef7ca0f",
   "metadata": {},
   "outputs": [],
   "source": [
    "sinestudios = df.education==\"No studies\""
   ]
  },
  {
   "cell_type": "code",
   "execution_count": 101,
   "id": "666085e4-ffca-46a3-93e8-8d44fc1f46bb",
   "metadata": {},
   "outputs": [
    {
     "data": {
      "text/html": [
       "<div>\n",
       "<style scoped>\n",
       "    .dataframe tbody tr th:only-of-type {\n",
       "        vertical-align: middle;\n",
       "    }\n",
       "\n",
       "    .dataframe tbody tr th {\n",
       "        vertical-align: top;\n",
       "    }\n",
       "\n",
       "    .dataframe thead th {\n",
       "        text-align: right;\n",
       "    }\n",
       "</style>\n",
       "<table border=\"1\" class=\"dataframe\">\n",
       "  <thead>\n",
       "    <tr style=\"text-align: right;\">\n",
       "      <th></th>\n",
       "      <th>internet_usage</th>\n",
       "      <th>sex</th>\n",
       "      <th>age</th>\n",
       "      <th>education</th>\n",
       "    </tr>\n",
       "  </thead>\n",
       "  <tbody>\n",
       "    <tr>\n",
       "      <th>14</th>\n",
       "      <td>0</td>\n",
       "      <td>Male</td>\n",
       "      <td>79</td>\n",
       "      <td>No studies</td>\n",
       "    </tr>\n",
       "    <tr>\n",
       "      <th>28</th>\n",
       "      <td>0</td>\n",
       "      <td>Male</td>\n",
       "      <td>70</td>\n",
       "      <td>No studies</td>\n",
       "    </tr>\n",
       "    <tr>\n",
       "      <th>33</th>\n",
       "      <td>0</td>\n",
       "      <td>Female</td>\n",
       "      <td>65</td>\n",
       "      <td>No studies</td>\n",
       "    </tr>\n",
       "    <tr>\n",
       "      <th>51</th>\n",
       "      <td>0</td>\n",
       "      <td>Male</td>\n",
       "      <td>79</td>\n",
       "      <td>No studies</td>\n",
       "    </tr>\n",
       "    <tr>\n",
       "      <th>70</th>\n",
       "      <td>0</td>\n",
       "      <td>Female</td>\n",
       "      <td>76</td>\n",
       "      <td>No studies</td>\n",
       "    </tr>\n",
       "    <tr>\n",
       "      <th>...</th>\n",
       "      <td>...</td>\n",
       "      <td>...</td>\n",
       "      <td>...</td>\n",
       "      <td>...</td>\n",
       "    </tr>\n",
       "    <tr>\n",
       "      <th>2398</th>\n",
       "      <td>0</td>\n",
       "      <td>Female</td>\n",
       "      <td>78</td>\n",
       "      <td>No studies</td>\n",
       "    </tr>\n",
       "    <tr>\n",
       "      <th>2401</th>\n",
       "      <td>0</td>\n",
       "      <td>Male</td>\n",
       "      <td>61</td>\n",
       "      <td>No studies</td>\n",
       "    </tr>\n",
       "    <tr>\n",
       "      <th>2405</th>\n",
       "      <td>0</td>\n",
       "      <td>Female</td>\n",
       "      <td>81</td>\n",
       "      <td>No studies</td>\n",
       "    </tr>\n",
       "    <tr>\n",
       "      <th>2448</th>\n",
       "      <td>0</td>\n",
       "      <td>Female</td>\n",
       "      <td>64</td>\n",
       "      <td>No studies</td>\n",
       "    </tr>\n",
       "    <tr>\n",
       "      <th>2449</th>\n",
       "      <td>0</td>\n",
       "      <td>Male</td>\n",
       "      <td>92</td>\n",
       "      <td>No studies</td>\n",
       "    </tr>\n",
       "  </tbody>\n",
       "</table>\n",
       "<p>177 rows × 4 columns</p>\n",
       "</div>"
      ],
      "text/plain": [
       "      internet_usage     sex  age   education\n",
       "14                 0    Male   79  No studies\n",
       "28                 0    Male   70  No studies\n",
       "33                 0  Female   65  No studies\n",
       "51                 0    Male   79  No studies\n",
       "70                 0  Female   76  No studies\n",
       "...              ...     ...  ...         ...\n",
       "2398               0  Female   78  No studies\n",
       "2401               0    Male   61  No studies\n",
       "2405               0  Female   81  No studies\n",
       "2448               0  Female   64  No studies\n",
       "2449               0    Male   92  No studies\n",
       "\n",
       "[177 rows x 4 columns]"
      ]
     },
     "execution_count": 101,
     "metadata": {},
     "output_type": "execute_result"
    }
   ],
   "source": [
    "df[sinestudios]"
   ]
  },
  {
   "cell_type": "code",
   "execution_count": null,
   "id": "cd406e45-7747-4142-a2f8-663d9db012e9",
   "metadata": {},
   "outputs": [],
   "source": []
  },
  {
   "cell_type": "markdown",
   "id": "09c8bf79-df83-4123-8414-889c65d92fa4",
   "metadata": {},
   "source": [
    "## mayores de 70 y sin estudios"
   ]
  },
  {
   "cell_type": "code",
   "execution_count": 106,
   "id": "ff912a09-ac3f-4647-b3c2-b685422fbd89",
   "metadata": {},
   "outputs": [
    {
     "data": {
      "text/plain": [
       "0       False\n",
       "1       False\n",
       "2       False\n",
       "3       False\n",
       "4       False\n",
       "        ...  \n",
       "2450    False\n",
       "2451    False\n",
       "2452    False\n",
       "2453    False\n",
       "2454    False\n",
       "Length: 2455, dtype: bool"
      ]
     },
     "execution_count": 106,
     "metadata": {},
     "output_type": "execute_result"
    }
   ],
   "source": [
    "mask & sinestudios"
   ]
  },
  {
   "cell_type": "code",
   "execution_count": 103,
   "id": "ff430496-d8db-4aa6-8884-00160eade7bc",
   "metadata": {},
   "outputs": [
    {
     "data": {
      "text/html": [
       "<div>\n",
       "<style scoped>\n",
       "    .dataframe tbody tr th:only-of-type {\n",
       "        vertical-align: middle;\n",
       "    }\n",
       "\n",
       "    .dataframe tbody tr th {\n",
       "        vertical-align: top;\n",
       "    }\n",
       "\n",
       "    .dataframe thead th {\n",
       "        text-align: right;\n",
       "    }\n",
       "</style>\n",
       "<table border=\"1\" class=\"dataframe\">\n",
       "  <thead>\n",
       "    <tr style=\"text-align: right;\">\n",
       "      <th></th>\n",
       "      <th>internet_usage</th>\n",
       "      <th>sex</th>\n",
       "      <th>age</th>\n",
       "      <th>education</th>\n",
       "    </tr>\n",
       "  </thead>\n",
       "  <tbody>\n",
       "    <tr>\n",
       "      <th>14</th>\n",
       "      <td>0</td>\n",
       "      <td>Male</td>\n",
       "      <td>79</td>\n",
       "      <td>No studies</td>\n",
       "    </tr>\n",
       "    <tr>\n",
       "      <th>51</th>\n",
       "      <td>0</td>\n",
       "      <td>Male</td>\n",
       "      <td>79</td>\n",
       "      <td>No studies</td>\n",
       "    </tr>\n",
       "    <tr>\n",
       "      <th>70</th>\n",
       "      <td>0</td>\n",
       "      <td>Female</td>\n",
       "      <td>76</td>\n",
       "      <td>No studies</td>\n",
       "    </tr>\n",
       "    <tr>\n",
       "      <th>71</th>\n",
       "      <td>0</td>\n",
       "      <td>Male</td>\n",
       "      <td>74</td>\n",
       "      <td>No studies</td>\n",
       "    </tr>\n",
       "    <tr>\n",
       "      <th>95</th>\n",
       "      <td>0</td>\n",
       "      <td>Male</td>\n",
       "      <td>73</td>\n",
       "      <td>No studies</td>\n",
       "    </tr>\n",
       "    <tr>\n",
       "      <th>...</th>\n",
       "      <td>...</td>\n",
       "      <td>...</td>\n",
       "      <td>...</td>\n",
       "      <td>...</td>\n",
       "    </tr>\n",
       "    <tr>\n",
       "      <th>2313</th>\n",
       "      <td>0</td>\n",
       "      <td>Female</td>\n",
       "      <td>80</td>\n",
       "      <td>No studies</td>\n",
       "    </tr>\n",
       "    <tr>\n",
       "      <th>2397</th>\n",
       "      <td>0</td>\n",
       "      <td>Male</td>\n",
       "      <td>82</td>\n",
       "      <td>No studies</td>\n",
       "    </tr>\n",
       "    <tr>\n",
       "      <th>2398</th>\n",
       "      <td>0</td>\n",
       "      <td>Female</td>\n",
       "      <td>78</td>\n",
       "      <td>No studies</td>\n",
       "    </tr>\n",
       "    <tr>\n",
       "      <th>2405</th>\n",
       "      <td>0</td>\n",
       "      <td>Female</td>\n",
       "      <td>81</td>\n",
       "      <td>No studies</td>\n",
       "    </tr>\n",
       "    <tr>\n",
       "      <th>2449</th>\n",
       "      <td>0</td>\n",
       "      <td>Male</td>\n",
       "      <td>92</td>\n",
       "      <td>No studies</td>\n",
       "    </tr>\n",
       "  </tbody>\n",
       "</table>\n",
       "<p>100 rows × 4 columns</p>\n",
       "</div>"
      ],
      "text/plain": [
       "      internet_usage     sex  age   education\n",
       "14                 0    Male   79  No studies\n",
       "51                 0    Male   79  No studies\n",
       "70                 0  Female   76  No studies\n",
       "71                 0    Male   74  No studies\n",
       "95                 0    Male   73  No studies\n",
       "...              ...     ...  ...         ...\n",
       "2313               0  Female   80  No studies\n",
       "2397               0    Male   82  No studies\n",
       "2398               0  Female   78  No studies\n",
       "2405               0  Female   81  No studies\n",
       "2449               0    Male   92  No studies\n",
       "\n",
       "[100 rows x 4 columns]"
      ]
     },
     "execution_count": 103,
     "metadata": {},
     "output_type": "execute_result"
    }
   ],
   "source": [
    "df[mask & sinestudios]"
   ]
  },
  {
   "cell_type": "markdown",
   "id": "5c077410-44e2-4cbe-b83d-0293635ae801",
   "metadata": {},
   "source": [
    "## mayores de 70 o sin estudios"
   ]
  },
  {
   "cell_type": "code",
   "execution_count": 104,
   "id": "8cf54c9f-3e7e-44a7-8e18-2dea41ef6124",
   "metadata": {},
   "outputs": [
    {
     "data": {
      "text/html": [
       "<div>\n",
       "<style scoped>\n",
       "    .dataframe tbody tr th:only-of-type {\n",
       "        vertical-align: middle;\n",
       "    }\n",
       "\n",
       "    .dataframe tbody tr th {\n",
       "        vertical-align: top;\n",
       "    }\n",
       "\n",
       "    .dataframe thead th {\n",
       "        text-align: right;\n",
       "    }\n",
       "</style>\n",
       "<table border=\"1\" class=\"dataframe\">\n",
       "  <thead>\n",
       "    <tr style=\"text-align: right;\">\n",
       "      <th></th>\n",
       "      <th>internet_usage</th>\n",
       "      <th>sex</th>\n",
       "      <th>age</th>\n",
       "      <th>education</th>\n",
       "    </tr>\n",
       "  </thead>\n",
       "  <tbody>\n",
       "    <tr>\n",
       "      <th>1</th>\n",
       "      <td>1</td>\n",
       "      <td>Male</td>\n",
       "      <td>72</td>\n",
       "      <td>Elementary</td>\n",
       "    </tr>\n",
       "    <tr>\n",
       "      <th>10</th>\n",
       "      <td>0</td>\n",
       "      <td>Female</td>\n",
       "      <td>73</td>\n",
       "      <td>Elementary</td>\n",
       "    </tr>\n",
       "    <tr>\n",
       "      <th>14</th>\n",
       "      <td>0</td>\n",
       "      <td>Male</td>\n",
       "      <td>79</td>\n",
       "      <td>No studies</td>\n",
       "    </tr>\n",
       "    <tr>\n",
       "      <th>21</th>\n",
       "      <td>0</td>\n",
       "      <td>Female</td>\n",
       "      <td>84</td>\n",
       "      <td>Elementary</td>\n",
       "    </tr>\n",
       "    <tr>\n",
       "      <th>28</th>\n",
       "      <td>0</td>\n",
       "      <td>Male</td>\n",
       "      <td>70</td>\n",
       "      <td>No studies</td>\n",
       "    </tr>\n",
       "    <tr>\n",
       "      <th>...</th>\n",
       "      <td>...</td>\n",
       "      <td>...</td>\n",
       "      <td>...</td>\n",
       "      <td>...</td>\n",
       "    </tr>\n",
       "    <tr>\n",
       "      <th>2439</th>\n",
       "      <td>0</td>\n",
       "      <td>Male</td>\n",
       "      <td>74</td>\n",
       "      <td>Elementary</td>\n",
       "    </tr>\n",
       "    <tr>\n",
       "      <th>2440</th>\n",
       "      <td>0</td>\n",
       "      <td>Female</td>\n",
       "      <td>77</td>\n",
       "      <td>Elementary</td>\n",
       "    </tr>\n",
       "    <tr>\n",
       "      <th>2443</th>\n",
       "      <td>0</td>\n",
       "      <td>Female</td>\n",
       "      <td>80</td>\n",
       "      <td>Elementary</td>\n",
       "    </tr>\n",
       "    <tr>\n",
       "      <th>2448</th>\n",
       "      <td>0</td>\n",
       "      <td>Female</td>\n",
       "      <td>64</td>\n",
       "      <td>No studies</td>\n",
       "    </tr>\n",
       "    <tr>\n",
       "      <th>2449</th>\n",
       "      <td>0</td>\n",
       "      <td>Male</td>\n",
       "      <td>92</td>\n",
       "      <td>No studies</td>\n",
       "    </tr>\n",
       "  </tbody>\n",
       "</table>\n",
       "<p>380 rows × 4 columns</p>\n",
       "</div>"
      ],
      "text/plain": [
       "      internet_usage     sex  age   education\n",
       "1                  1    Male   72  Elementary\n",
       "10                 0  Female   73  Elementary\n",
       "14                 0    Male   79  No studies\n",
       "21                 0  Female   84  Elementary\n",
       "28                 0    Male   70  No studies\n",
       "...              ...     ...  ...         ...\n",
       "2439               0    Male   74  Elementary\n",
       "2440               0  Female   77  Elementary\n",
       "2443               0  Female   80  Elementary\n",
       "2448               0  Female   64  No studies\n",
       "2449               0    Male   92  No studies\n",
       "\n",
       "[380 rows x 4 columns]"
      ]
     },
     "execution_count": 104,
     "metadata": {},
     "output_type": "execute_result"
    }
   ],
   "source": [
    "df[mask | sinestudios]"
   ]
  },
  {
   "cell_type": "code",
   "execution_count": 105,
   "id": "9310f10d-e1a2-4c86-ba2a-d613a38716f8",
   "metadata": {},
   "outputs": [
    {
     "ename": "ValueError",
     "evalue": "The truth value of a Series is ambiguous. Use a.empty, a.bool(), a.item(), a.any() or a.all().",
     "output_type": "error",
     "traceback": [
      "\u001b[0;31m---------------------------------------------------------------------------\u001b[0m",
      "\u001b[0;31mValueError\u001b[0m                                Traceback (most recent call last)",
      "\u001b[0;32m/var/folders/24/tg28vxls25l9mjvqrnh0plc80000gn/T/ipykernel_94682/2471055071.py\u001b[0m in \u001b[0;36m<module>\u001b[0;34m\u001b[0m\n\u001b[0;32m----> 1\u001b[0;31m \u001b[0mdf\u001b[0m\u001b[0;34m[\u001b[0m\u001b[0mmask\u001b[0m \u001b[0;32mor\u001b[0m \u001b[0msinestudios\u001b[0m\u001b[0;34m]\u001b[0m\u001b[0;34m\u001b[0m\u001b[0;34m\u001b[0m\u001b[0m\n\u001b[0m",
      "\u001b[0;32m~/miniforge3/lib/python3.9/site-packages/pandas/core/generic.py\u001b[0m in \u001b[0;36m__nonzero__\u001b[0;34m(self)\u001b[0m\n\u001b[1;32m   1535\u001b[0m     \u001b[0;34m@\u001b[0m\u001b[0mfinal\u001b[0m\u001b[0;34m\u001b[0m\u001b[0;34m\u001b[0m\u001b[0m\n\u001b[1;32m   1536\u001b[0m     \u001b[0;32mdef\u001b[0m \u001b[0m__nonzero__\u001b[0m\u001b[0;34m(\u001b[0m\u001b[0mself\u001b[0m\u001b[0;34m)\u001b[0m\u001b[0;34m:\u001b[0m\u001b[0;34m\u001b[0m\u001b[0;34m\u001b[0m\u001b[0m\n\u001b[0;32m-> 1537\u001b[0;31m         raise ValueError(\n\u001b[0m\u001b[1;32m   1538\u001b[0m             \u001b[0;34mf\"The truth value of a {type(self).__name__} is ambiguous. \"\u001b[0m\u001b[0;34m\u001b[0m\u001b[0;34m\u001b[0m\u001b[0m\n\u001b[1;32m   1539\u001b[0m             \u001b[0;34m\"Use a.empty, a.bool(), a.item(), a.any() or a.all().\"\u001b[0m\u001b[0;34m\u001b[0m\u001b[0;34m\u001b[0m\u001b[0m\n",
      "\u001b[0;31mValueError\u001b[0m: The truth value of a Series is ambiguous. Use a.empty, a.bool(), a.item(), a.any() or a.all()."
     ]
    }
   ],
   "source": [
    "df[mask or sinestudios]"
   ]
  },
  {
   "cell_type": "code",
   "execution_count": null,
   "id": "715e4b9d-f36a-4cde-949a-b7bbe163adc3",
   "metadata": {},
   "outputs": [],
   "source": []
  }
 ],
 "metadata": {
  "authors": [
   {
    "name": "Jesús López @sotastica"
   }
  ],
  "interpreter": {
   "hash": "414fd6d7c0f0aefb3d4e2db41edbeb0df03134e10d94a689550561b640a17652"
  },
  "kernelspec": {
   "display_name": "Python 3 (ipykernel)",
   "language": "python",
   "name": "python3"
  },
  "language_info": {
   "codemirror_mode": {
    "name": "ipython",
    "version": 3
   },
   "file_extension": ".py",
   "mimetype": "text/x-python",
   "name": "python",
   "nbconvert_exporter": "python",
   "pygments_lexer": "ipython3",
   "version": "3.9.7"
  },
  "toc-autonumbering": true
 },
 "nbformat": 4,
 "nbformat_minor": 5
}
